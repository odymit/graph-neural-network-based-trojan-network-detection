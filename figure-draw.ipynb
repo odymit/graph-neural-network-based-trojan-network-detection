{
 "cells": [
  {
   "cell_type": "code",
   "execution_count": null,
   "id": "67622b09",
   "metadata": {
    "pycharm": {
     "name": "#%%\n"
    }
   },
   "outputs": [],
   "source": [
    "# load data\n",
    "import os\n",
    "import json\n",
    "datapath = './intermediate_data'\n",
    "files = []\n",
    "for filename in os.listdir(datapath):\n",
    "    if 'train' in filename:\n",
    "        with open(os.path.join(datapath, filename), 'r') as f:\n",
    "            files.append(json.load(f))\n",
    "            print(os.path.join(datapath, filename), ' loaded.')"
   ]
  },
  {
   "cell_type": "code",
   "execution_count": null,
   "id": "cfd85e30",
   "metadata": {
    "pycharm": {
     "name": "#%%\n"
    }
   },
   "outputs": [],
   "source": [
    "cur_file = files[-2]\n",
    "print(cur_file.keys())\n"
   ]
  },
  {
   "cell_type": "code",
   "execution_count": null,
   "id": "1e3ae001",
   "metadata": {
    "pycharm": {
     "name": "#%%\n"
    }
   },
   "outputs": [],
   "source": [
    "# draw pic\n",
    "from pyecharts.charts import Line\n",
    "\n",
    "def draw_pic(x, y):\n",
    "    line = Line()\n",
    "    line.add_xaxis(x)\n",
    "    if isinstance(y[0], list):\n",
    "        for idx in range(len(y)):\n",
    "            line.add_yaxis('y%d' % idx, y[idx])  \n",
    "    else:\n",
    "        line.add_yaxis('y', y)\n",
    "    line.render()\n",
    "\n",
    "x = [i for i in range(10)]\n",
    "y = x\n",
    "draw_pic([i for i in range(len(cur_file['test_tp']))], cur_file['test_tp'])"
   ]
  },
  {
   "cell_type": "code",
   "execution_count": null,
   "metadata": {
    "collapsed": false,
    "pycharm": {
     "name": "#%%\n"
    }
   },
   "outputs": [],
   "source": []
  }
 ],
 "metadata": {
  "kernelspec": {
   "display_name": "mntd-real",
   "language": "python",
   "name": "mntd-real"
  },
  "language_info": {
   "codemirror_mode": {
    "name": "ipython",
    "version": 3
   },
   "file_extension": ".py",
   "mimetype": "text/x-python",
   "name": "python",
   "nbconvert_exporter": "python",
   "pygments_lexer": "ipython3",
   "version": "3.6.13"
  }
 },
 "nbformat": 4,
 "nbformat_minor": 5
}
