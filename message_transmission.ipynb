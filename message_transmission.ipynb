{
 "cells": [
  {
   "cell_type": "code",
   "execution_count": 2,
   "metadata": {},
   "outputs": [
    {
     "name": "stderr",
     "output_type": "stream",
     "text": [
      "/home/dorian/.conda/envs/mntd/lib/python3.6/site-packages/tqdm/auto.py:22: TqdmWarning: IProgress not found. Please update jupyter and ipywidgets. See https://ipywidgets.readthedocs.io/en/stable/user_install.html\n",
      "  from .autonotebook import tqdm as notebook_tqdm\n"
     ]
    },
    {
     "name": "stdout",
     "output_type": "stream",
     "text": [
      "Graph(num_nodes=91, num_edges=1674,\n",
      "      ndata_schemes={'bias': Scheme(shape=(1, 512), dtype=torch.float32), 'pooling': Scheme(shape=(5,), dtype=torch.int64), 'params': Scheme(shape=(3, 2), dtype=torch.int64), 'node_size': Scheme(shape=(2,), dtype=torch.int64), 'bias_size': Scheme(shape=(2,), dtype=torch.int64), 'layer': Scheme(shape=(), dtype=torch.int64), 'tag': Scheme(shape=(), dtype=torch.int64), 'x': Scheme(shape=(512, 512), dtype=torch.float32)}\n",
      "      edata_schemes={})\n"
     ]
    }
   ],
   "source": [
    "import dgl\n",
    "import torch\n",
    "g = dgl.load_graphs(\"./intermediate_data/grapj_test.bin\")\n",
    "g = g[0][0]\n",
    "print(g)"
   ]
  },
  {
   "cell_type": "code",
   "execution_count": 7,
   "metadata": {},
   "outputs": [],
   "source": [
    "def conv(input, in_size, w, kernel_size, stride,):\n",
    "    pass\n",
    "def maxpooling():\n",
    "    pass\n",
    "# get src node feature\n",
    "def message(edges):\n",
    "    print(\"This is message function:\")\n",
    "    # print({'pre': edges.src['x']})\n",
    "    return {'pre': edges.src['x']}\n",
    "# compute received feature using mailbox\n",
    "def reduce(nodes):\n",
    "    # input layer, get image feature\n",
    "    input_layer_mask = nodes.data['tag'] == 0\n",
    "    conv_layer_mask = nodes.data['tag'] == 1\n",
    "    concat_layer_mask = nodes.data['tag'] == 2\n",
    "    fc_layer_mask = nodes.data['tag'] == 3\n",
    "\n",
    "    # nodes.data['t'] = conv(image, kernel_weight, kernel_size, stride, padding)\n",
    "    # nodes.data['t'] = maxpooling(nodes.data['t'], actual_size, kernel_size, stride, padding, dilation, ceil_mode)\n",
    "    print(\"This is reduce function:\")\n",
    "    # print(nodes.mailbox['pre'])\n",
    "    return {'h':nodes.data['x']}"
   ]
  },
  {
   "cell_type": "code",
   "execution_count": 8,
   "metadata": {},
   "outputs": [
    {
     "name": "stdout",
     "output_type": "stream",
     "text": [
      "This is message function:\n",
      "This is reduce function:\n",
      "This is reduce function:\n",
      "This is reduce function:\n",
      "This is reduce function:\n"
     ]
    }
   ],
   "source": [
    "g.update_all(message, reduce)"
   ]
  },
  {
   "cell_type": "code",
   "execution_count": 9,
   "metadata": {},
   "outputs": [
    {
     "name": "stdout",
     "output_type": "stream",
     "text": [
      "254 253 254 253\n",
      "tensor([[-0.1224, -0.0953, -0.0025,  0.1096, -0.1517],\n",
      "        [-0.1580, -0.1656,  0.0306,  0.1967,  0.2402],\n",
      "        [-0.2434,  0.0711, -0.0533, -0.1392, -0.1160],\n",
      "        [ 0.1162, -0.1471,  0.2129,  0.2059, -0.1470],\n",
      "        [ 0.0543,  0.0874,  0.1545, -0.1643,  0.0806]])\n",
      "torch.Size([1, 1, 5, 5])\n",
      "tensor([[[[-0.1224, -0.0953, -0.0025,  0.1096, -0.1517],\n",
      "          [-0.1580, -0.1656,  0.0306,  0.1967,  0.2402],\n",
      "          [-0.2434,  0.0711, -0.0533, -0.1392, -0.1160],\n",
      "          [ 0.1162, -0.1471,  0.2129,  0.2059, -0.1470],\n",
      "          [ 0.0543,  0.0874,  0.1545, -0.1643,  0.0806]]]])\n"
     ]
    }
   ],
   "source": [
    "from utils_gnn import unpadding\n",
    "row, col = g.ndata['node_size'][0]\n",
    "# get actural kernel data\n",
    "weight = unpadding(g.ndata['x'][0], int(row), int(col))\n",
    "# add channel\n",
    "print(weight)\n",
    "weight = weight.unsqueeze(0).unsqueeze(0)\n",
    "print(weight.size())\n",
    "print(weight)"
   ]
  },
  {
   "cell_type": "code",
   "execution_count": 10,
   "metadata": {},
   "outputs": [
    {
     "name": "stdout",
     "output_type": "stream",
     "text": [
      "torch.Size([1, 1, 5, 5])\n",
      "tensor([[[[-0.1932,  0.1673,  0.1722,  0.0167, -0.0647],\n",
      "          [ 0.1359, -0.1465, -0.0194, -0.1681, -0.1491],\n",
      "          [-0.0722,  0.0318, -0.0720, -0.1175, -0.0169],\n",
      "          [-0.1413,  0.0290, -0.0581, -0.1793, -0.0227],\n",
      "          [ 0.1407, -0.1191, -0.1375, -0.0848, -0.0310]]]])\n",
      "tensor([[[[-0.1224, -0.0953, -0.0025,  0.1096, -0.1517],\n",
      "          [-0.1580, -0.1656,  0.0306,  0.1967,  0.2402],\n",
      "          [-0.2434,  0.0711, -0.0533, -0.1392, -0.1160],\n",
      "          [ 0.1162, -0.1471,  0.2129,  0.2059, -0.1470],\n",
      "          [ 0.0543,  0.0874,  0.1545, -0.1643,  0.0806]]]])\n"
     ]
    }
   ],
   "source": [
    "def cnn_forward_on_node(input):\n",
    "    pass\n",
    "relu = torch.nn.functional.relu\n",
    "conv = torch.nn.Conv2d(1, 1, kernel_size=5, stride=1, padding=2)\n",
    "print(conv.weight.data.size())\n",
    "print(conv.weight.data)\n",
    "conv.weight.data = weight\n",
    "print(conv.weight.data)\n",
    "max_pool = torch.nn.MaxPool2d(kernel_size=2, stride=2)"
   ]
  },
  {
   "cell_type": "code",
   "execution_count": null,
   "metadata": {},
   "outputs": [],
   "source": [
    "conv()"
   ]
  }
 ],
 "metadata": {
  "kernelspec": {
   "display_name": "Python 3.6.13 ('mntd')",
   "language": "python",
   "name": "python3"
  },
  "language_info": {
   "codemirror_mode": {
    "name": "ipython",
    "version": 3
   },
   "file_extension": ".py",
   "mimetype": "text/x-python",
   "name": "python",
   "nbconvert_exporter": "python",
   "pygments_lexer": "ipython3",
   "version": "3.6.13"
  },
  "orig_nbformat": 4,
  "vscode": {
   "interpreter": {
    "hash": "7d504790743f38722d745ab54c6dcc5c590f96c5141b7c6566bf2e4e2b011705"
   }
  }
 },
 "nbformat": 4,
 "nbformat_minor": 2
}
