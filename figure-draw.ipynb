{
 "cells": [
  {
   "cell_type": "code",
   "execution_count": 5,
   "outputs": [
    {
     "name": "stdout",
     "output_type": "stream",
     "text": [
      "./intermediate_data/train-2022-10-05-02:31:44.json  loaded.\n",
      "./intermediate_data/train-2022-10-05-02:33:29.json  loaded.\n",
      "./intermediate_data/train-2022-10-07-20:56:06.json  loaded.\n",
      "./intermediate_data/train-2022-10-05-02:37:08.json  loaded.\n"
     ]
    }
   ],
   "source": [
    "# load data\n",
    "import os\n",
    "import json\n",
    "datapath = './intermediate_data'\n",
    "files = []\n",
    "for filename in os.listdir(datapath):\n",
    "    if 'train' in filename:\n",
    "        with open(os.path.join(datapath, filename), 'r') as f:\n",
    "            files.append(json.load(f))\n",
    "            print(os.path.join(datapath, filename), ' loaded.')"
   ],
   "metadata": {
    "collapsed": false,
    "pycharm": {
     "name": "#%%\n"
    }
   }
  },
  {
   "cell_type": "code",
   "execution_count": 10,
   "outputs": [
    {
     "name": "stdout",
     "output_type": "stream",
     "text": [
      "dict_keys(['train_acc', 'val_acc', 'test_acc', 'train_tp', 'val_tp', 'test_tp', 'train_tn', 'val_tn', 'test_tn', 'train_fp', 'val_fp', 'test_fp', 'train_fn', 'val_fn', 'test_fn', 'loss'])\n"
     ]
    }
   ],
   "source": [
    "cur_file = files[-2]\n",
    "print(cur_file.keys())"
   ],
   "metadata": {
    "collapsed": false,
    "pycharm": {
     "name": "#%%\n"
    }
   }
  },
  {
   "cell_type": "code",
   "execution_count": null,
   "outputs": [],
   "source": [
    "# draw pic\n",
    "from pyecharts.charts import Line\n",
    "def draw_pic(x, y):\n",
    "    line = Line()\n",
    "\n"
   ],
   "metadata": {
    "collapsed": false,
    "pycharm": {
     "name": "#%%\n",
     "is_executing": true
    }
   }
  },
  {
   "cell_type": "code",
   "execution_count": 5,
   "outputs": [],
   "source": [],
   "metadata": {
    "collapsed": false,
    "pycharm": {
     "name": "#%%\n"
    }
   }
  }
 ],
 "metadata": {
  "kernelspec": {
   "display_name": "mntd-real",
   "language": "python",
   "name": "mntd-real"
  },
  "language_info": {
   "codemirror_mode": {
    "name": "ipython",
    "version": 3
   },
   "file_extension": ".py",
   "mimetype": "text/x-python",
   "name": "python",
   "nbconvert_exporter": "python",
   "pygments_lexer": "ipython3",
   "version": "3.6.13"
  }
 },
 "nbformat": 4,
 "nbformat_minor": 5
}