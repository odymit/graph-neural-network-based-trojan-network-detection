{
 "cells": [
  {
   "cell_type": "code",
   "execution_count": null,
   "id": "abda01c1",
   "metadata": {
    "pycharm": {
     "name": "#%%\n"
    }
   },
   "outputs": [],
   "source": [
    "# Read cnn model in different structure\n",
    "import torch \n",
    "mnist_models = []\n",
    "cifar10_models = []\n",
    "\n",
    "def load_spec_model(module, model_index):\n",
    "    model = getattr(module, 'Model'+model_index)\n",
    "    return model\n",
    "\n",
    "for i in range(6):\n",
    "    params = torch.load('/home/ubuntu/date/hdd4/shadow_model_ckpt/mnist/models%d/shadow_benign_0.model'%i)\n",
    "    import model_lib.mnist_cnn_model as father_model\n",
    "    Model = load_spec_model(father_model, str(i))\n",
    "    m = Model()\n",
    "    m.load_state_dict(params)\n",
    "    mnist_models.append(m)\n",
    "print(\"mnist model loaded, count: %d\" % len(mnist_models))\n",
    "\n",
    "for i in range(6):\n",
    "    params = torch.load('/home/ubuntu/date/hdd4/shadow_model_ckpt/cifar10/models%d/shadow_benign_0.model'%i)\n",
    "    import model_lib.cifar10_cnn_model as father_model\n",
    "    Model = load_spec_model(father_model, str(i))\n",
    "    m = Model()\n",
    "    m.load_state_dict(params)\n",
    "    cifar10_models.append(m)\n",
    "print(\"cifar10 model loaded, count: %d\" % len(cifar10_models))"
   ]
  },
  {
   "cell_type": "code",
   "execution_count": null,
   "id": "628a38c1",
   "metadata": {
    "scrolled": true,
    "pycharm": {
     "name": "#%%\n"
    }
   },
   "outputs": [],
   "source": [
    "dir(m)"
   ]
  },
  {
   "cell_type": "code",
   "execution_count": null,
   "id": "cc9903b3",
   "metadata": {
    "pycharm": {
     "name": "#%%\n"
    }
   },
   "outputs": [],
   "source": [
    "m = mnist_models[1]"
   ]
  },
  {
   "cell_type": "code",
   "execution_count": null,
   "id": "3bf35a19",
   "metadata": {
    "pycharm": {
     "name": "#%%\n"
    }
   },
   "outputs": [],
   "source": [
    "m.state_dict().keys()"
   ]
  },
  {
   "cell_type": "code",
   "execution_count": null,
   "id": "cb6e0e82",
   "metadata": {
    "scrolled": true,
    "pycharm": {
     "name": "#%%\n"
    }
   },
   "outputs": [],
   "source": [
    "m.get_submodule('max_pool_1')\n"
   ]
  },
  {
   "cell_type": "code",
   "execution_count": null,
   "id": "9dca15af",
   "metadata": {
    "scrolled": true,
    "pycharm": {
     "name": "#%%\n"
    }
   },
   "outputs": [],
   "source": [
    "import re\n",
    "from torchinfo import summary\n",
    "def model_summary(model_type, models, input_size):\n",
    "    # get info:\n",
    "    # 1. max node size\n",
    "    # 2. conv layer node name & num & max_pooling params\n",
    "    # 3. dense layer node name \n",
    "    # final save all info as a json file \n",
    "    max_size = None\n",
    "    model_summary = {}\n",
    "    cnt = 0\n",
    "    row_dim = {}\n",
    "    col_dim = {}\n",
    "    for m in models:\n",
    "        batch_size = (1,)\n",
    "        summary_str = str(summary(m, batch_size+input_size))\n",
    "        # print(summary_str)\n",
    "        pattern = '├─(.*?)\\['\n",
    "        maxp_info = re.findall(pattern, summary_str)            \n",
    "        idx = 0\n",
    "        layers = []\n",
    "        pool1_used = False\n",
    "        cur_row_dim = []\n",
    "        cur_col_dim = []\n",
    "        for layer in m.state_dict().keys():\n",
    "            \n",
    "            cur_layer_name = layer.split('.')[0]\n",
    "            # print(\"layer:\", cur_layer_name)\n",
    "\n",
    "            if 'bias' in layer:\n",
    "                continue\n",
    "            # if conv, max_pool exists?\n",
    "            if 'conv' in layer:\n",
    "                if 'MaxPool' in maxp_info[idx+1]:\n",
    "                    # print('maxpool conv layer')\n",
    "                    mp_name = 'max_pool'\n",
    "                    mp_info = {}\n",
    "                    if pool1_used == False and model_type == 'mnist' and 'Model1' in summary_str:\n",
    "                        mp_name = 'max_pool_1'\n",
    "                        pool1_used = True\n",
    "                    if pool1_used == True and model_type == 'mnist' and 'Model1' in summary_str:\n",
    "                        mp_name = 'max_pool_2'\n",
    "                    \n",
    "                    mp_info['kernel_size'] = m.get_submodule(mp_name).kernel_size\n",
    "                    mp_info['stride'] = m.get_submodule(mp_name).stride\n",
    "                    mp_info['padding'] = m.get_submodule(mp_name).padding\n",
    "                    mp_info['dilation'] = m.get_submodule(mp_name).dilation\n",
    "                    mp_info['ceil_mode'] = m.get_submodule(mp_name).ceil_mode\n",
    "                    layers.append({'name':cur_layer_name, 'num':m.get_submodule(cur_layer_name).out_channels,\n",
    "                                  'maxpool':mp_info})\n",
    "                else:\n",
    "                    # print(\"no maxpool layer\")\n",
    "                    layers.append({'name':cur_layer_name, 'num':m.get_submodule(cur_layer_name).out_channels,\n",
    "                                  'maxpool':None})\n",
    "                cur_row_dim.append(m.get_submodule(cur_layer_name).kernel_size[0])\n",
    "                cur_col_dim.append(m.get_submodule(cur_layer_name).kernel_size[1])\n",
    "            else:\n",
    "                # dense layer\n",
    "                # print('dense layer')\n",
    "                layers.append({'name':cur_layer_name, 'num': 1, 'maxpool':None})\n",
    "                cur_row_dim.append(m.get_submodule(cur_layer_name).out_features)\n",
    "                cur_col_dim.append(m.get_submodule(cur_layer_name).out_features)\n",
    "            \n",
    "            # get max row & col size\n",
    "            # if cur_row_dim > row_dim:\n",
    "            #     row_dim = cur_row_dim\n",
    "            # if cur_col_dim > col_dim:\n",
    "            #     col_dim = cur_col_dim\n",
    "        row_dim[cnt] = cur_row_dim\n",
    "        col_dim[cnt] = cur_col_dim\n",
    "        model_summary[cnt] =  layers\n",
    "        cnt += 1\n",
    "\n",
    "    return model_summary, row_dim, col_dim\n",
    "\n",
    "mnist_summary, m_row_dim, m_col_dim = model_summary('mnist', mnist_models, (1, 28, 28))\n",
    "def max_dim_count(mnist_summary, m_row_dim, m_col_dim):\n",
    "    for model in range(len(m_row_dim)):\n",
    "        max_dim = 0\n",
    "        cell_num = 0\n",
    "        for cell in range(len(m_row_dim[model])):\n",
    "            # print(m_row_dim[model][cell], m_col_dim[model][cell])\n",
    "            dim = m_row_dim[model][cell] * m_col_dim[model][cell]\n",
    "            if max_dim < dim:\n",
    "                max_dim = dim\n",
    "            cell_num += mnist_summary[model][cell]['num']\n",
    "        print(\"%d: num of cells: %d, max cell dim: %d\" % (model, cell_num, max_dim))\n",
    "# print(m_row_dim, m_col_dim)\n",
    "max_dim_count(mnist_summary, m_row_dim, m_col_dim)\n",
    "cifar10_summary, c_row_dim, c_col_dim = model_summary('cifar10', cifar10_models, (3, 32, 32))\n",
    "# print(cifar10_summary, c_row_dim, c_col_dim)\n",
    "max_dim_count(cifar10_summary, c_row_dim, c_col_dim)"
   ]
  },
  {
   "cell_type": "code",
   "execution_count": null,
   "outputs": [],
   "source": [
    "import json\n",
    "def get_model_detail():\n",
    "    # get_model_detail information and save to json\n",
    "    mnist_summary, m_row_dim, m_col_dim = model_summary('mnist', mnist_models, (1, 28, 28))\n",
    "    cifar10_summary, c_row_dim, c_col_dim = model_summary('cifar10', cifar10_models, (3, 32, 32))\n",
    "    max_row_dim = -1\n",
    "    if m_row_dim > c_row_dim:\n",
    "        max_row_dim = m_row_dim\n",
    "    else:\n",
    "        max_row_dim = c_row_dim\n",
    "    max_col_dim = -1\n",
    "    if m_col_dim > c_col_dim:\n",
    "        max_col_dim = m_col_dim\n",
    "    else:\n",
    "        max_col_dim = c_col_dim\n",
    "    model_detail = {}\n",
    "    model_detail['mnist'] = mnist_summary\n",
    "    model_detail['cifar10'] = cifar10_summary\n",
    "    model_detail['max_size'] = [max_row_dim, max_col_dim]\n",
    "    print(model_detail)\n",
    "    model_detail_path = \"./intermediate_data/model_detail.json\"\n",
    "    with open(model_detail_path, 'w') as f:\n",
    "        json.dump(model_detail, f)\n",
    "    return model_detail\n",
    "model_detail = get_model_detail()"
   ],
   "metadata": {
    "collapsed": false,
    "pycharm": {
     "name": "#%%\n"
    }
   }
  },
  {
   "cell_type": "code",
   "execution_count": null,
   "id": "a08e459b",
   "metadata": {
    "scrolled": true,
    "pycharm": {
     "name": "#%%\n"
    }
   },
   "outputs": [],
   "source": [
    "import json\n",
    "model_detail = []\n",
    "model_detail_path = \"./intermediate_data/model_detail.json\"\n",
    "with open(model_detail_path, 'r') as f:\n",
    "    model_detail = json.load(f)\n",
    "\n",
    "max_num = 0\n",
    "num_list = []\n",
    "for key, value in zip(model_detail.keys(), model_detail.values()):\n",
    "    if key not in ['mnist', 'cifar10']:\n",
    "        continue\n",
    "    cur_num = 0\n",
    "    for model in value.values():\n",
    "        for layer in model:\n",
    "            print(layer)\n",
    "            cur_num += layer['num']\n",
    "        if cur_num > max_num:\n",
    "            max_num = cur_num\n",
    "            num_list.append(cur_num)\n",
    "print(max_num)\n",
    "print(num_list)"
   ]
  },
  {
   "cell_type": "code",
   "execution_count": null,
   "id": "a2baf554",
   "metadata": {
    "pycharm": {
     "name": "#%%\n"
    }
   },
   "outputs": [],
   "source": [
    "for weight, bias in zip(m.get_submodule('conv1').weight, \n",
    "                        m.get_submodule('conv1').bias):\n",
    "    print(weight[0])\n",
    "    print(bias)\n",
    "    w = weight[0] + bias\n",
    "    print(w)\n",
    "    break"
   ]
  },
  {
   "cell_type": "code",
   "execution_count": null,
   "id": "1ebb5833",
   "metadata": {
    "pycharm": {
     "name": "#%%\n"
    }
   },
   "outputs": [],
   "source": [
    "dir(torch)"
   ]
  },
  {
   "cell_type": "code",
   "execution_count": null,
   "id": "3aca3378",
   "metadata": {
    "pycharm": {
     "name": "#%%\n"
    }
   },
   "outputs": [],
   "source": []
  },
  {
   "cell_type": "code",
   "execution_count": null,
   "id": "e0cbe6a9",
   "metadata": {
    "scrolled": false,
    "pycharm": {
     "name": "#%%\n"
    }
   },
   "outputs": [],
   "source": [
    "print(m.get_submodule('output').weight.t() + m.get_submodule('output').bias)"
   ]
  },
  {
   "cell_type": "code",
   "execution_count": null,
   "id": "892008f7",
   "metadata": {
    "pycharm": {
     "name": "#%%\n"
    }
   },
   "outputs": [],
   "source": [
    "# cnn2graph\n",
    "# mnsit input size: 1,28,28\n",
    "# cifar10 input size: 3,32,32\n",
    "from torchinfo import summary\n",
    "import os \n",
    "import dgl\n",
    "\n",
    "\n",
    "def all_u_to_v(src, dst):\n",
    "    ret = []\n",
    "    for v in dst:\n",
    "        ret += [[u, v] for u in src]\n",
    "    return ret\n",
    "\n",
    "def cnn2graph(model, model_info, y):\n",
    "    # convert cnn model to a dgl graph\n",
    "    # model: model weight data\n",
    "    # model_info: model struct info\n",
    "    \n",
    "    label = torch.IntTensor([y])\n",
    "    layers = []\n",
    "    all_node_feats = []\n",
    "    all_edges = []\n",
    "    cnt = 0\n",
    "    with torch.no_grad():\n",
    "        for i in range(len(model_info)):\n",
    "            cur_layer_info = model_info[i]\n",
    "            cur_layer_node = []\n",
    "            \n",
    "            if 'conv' in cur_layer_info['name']:\n",
    "                # construct cur layer nodes\n",
    "                for weight, bias in zip(model.get_submodule(cur_layer_info['name']).weight, \n",
    "                                        model.get_submodule(cur_layer_info['name']).bias):\n",
    "                    cur_layer_node.append(cnt)\n",
    "                    cnt += 1\n",
    "                    # featue resize?\n",
    "                    all_node_feats.append(weight[0] + bias)\n",
    "\n",
    "\n",
    "            else:\n",
    "                # construct dense layer node\n",
    "                cur_layer_node.append(cnt)\n",
    "                cnt += 1\n",
    "                # feature resize?\n",
    "                all_node_feats.append(model.get_submodule(cur_layer_info['name']).weight.t() + model.get_submodule(cur_layer_info['name']).bias)\n",
    "            layers.append(cur_layer_node)\n",
    "            \n",
    "    # get all edges\n",
    "    for idx in range(len(layers)):\n",
    "        if idx < len(layers) - 1:\n",
    "            edges = all_u_to_v(layers[idx], layers[idx+1])\n",
    "            all_edges += edges\n",
    "    \n",
    "    all_edges = torch.tensor(all_edges).t()\n",
    "    u, v = all_edges[0], all_edges[1]\n",
    "    g = dgl.graph((u,v))\n",
    "    # g.ndata['x'] = torch.stack(all_node_feats)\n",
    "    print(g)\n",
    "    return all_node_feats\n",
    "all_node_feats = []\n",
    "all_node_feats = cnn2graph(mnist_models[0], model_detail['mnist'][0], 1)"
   ]
  },
  {
   "cell_type": "code",
   "execution_count": null,
   "id": "3fae94ec",
   "metadata": {
    "pycharm": {
     "name": "#%%\n"
    }
   },
   "outputs": [],
   "source": [
    "val= torch.tensor([item.cpu().detach().numpy() for item in all_node_feats]).cuda()"
   ]
  },
  {
   "cell_type": "code",
   "execution_count": null,
   "id": "bee386ff",
   "metadata": {
    "scrolled": true,
    "pycharm": {
     "name": "#%%\n"
    }
   },
   "outputs": [],
   "source": [
    "all_node_feats"
   ]
  },
  {
   "cell_type": "code",
   "execution_count": null,
   "id": "f5e9439c",
   "metadata": {
    "pycharm": {
     "name": "#%%\n"
    }
   },
   "outputs": [],
   "source": []
  }
 ],
 "metadata": {
  "kernelspec": {
   "display_name": "mntd-real",
   "language": "python",
   "name": "mntd-real"
  },
  "language_info": {
   "codemirror_mode": {
    "name": "ipython",
    "version": 3
   },
   "file_extension": ".py",
   "mimetype": "text/x-python",
   "name": "python",
   "nbconvert_exporter": "python",
   "pygments_lexer": "ipython3",
   "version": "3.6.13"
  }
 },
 "nbformat": 4,
 "nbformat_minor": 5
}