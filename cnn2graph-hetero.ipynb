{
 "cells": [
  {
   "cell_type": "code",
   "execution_count": 1,
   "id": "abda01c1",
   "metadata": {
    "pycharm": {
     "name": "#%%\n"
    }
   },
   "outputs": [
    {
     "name": "stderr",
     "output_type": "stream",
     "text": [
      "/home/dorian/.conda/envs/mntd/lib/python3.6/site-packages/tqdm/auto.py:22: TqdmWarning: IProgress not found. Please update jupyter and ipywidgets. See https://ipywidgets.readthedocs.io/en/stable/user_install.html\n",
      "  from .autonotebook import tqdm as notebook_tqdm\n"
     ]
    },
    {
     "name": "stdout",
     "output_type": "stream",
     "text": [
      "0\n",
      "1\n",
      "2\n",
      "3\n",
      "4\n",
      "5\n",
      "mnist model loaded, count: 6\n"
     ]
    }
   ],
   "source": [
    "# Read cnn model in different structure\n",
    "import torch \n",
    "mnist_models = []\n",
    "cifar10_models = []\n",
    "\n",
    "def load_spec_model(module, model_index):\n",
    "    model = getattr(module, 'Model'+model_index)\n",
    "    return model\n",
    "\n",
    "for i in range(6):\n",
    "    # params = torch.load('/home/ubuntu/date/hdd4/shadow_model_ckpt/mnist/models%d/shadow_benign_0.model'%i)\n",
    "    params = torch.load('./shadow_model_ckpt/mnist/models%d/shadow_benign_0.model' % i)\n",
    "    import model_lib.mnist_cnn_model as father_model\n",
    "    Model = load_spec_model(father_model, str(i))\n",
    "    print(i)\n",
    "    m = Model()\n",
    "    m.load_state_dict(params)\n",
    "    mnist_models.append(m)\n",
    "print(\"mnist model loaded, count: %d\" % len(mnist_models))\n",
    "\n",
    "# for i in range(6):\n",
    "#     params = torch.load('/home/ubuntu/date/hdd4/shadow_model_ckpt/cifar10/models%d/shadow_benign_0.model'%i)\n",
    "#     import model_lib.cifar10_cnn_model as father_model\n",
    "#     Model = load_spec_model(father_model, str(i))\n",
    "#     m = Model()\n",
    "#     m.load_state_dict(params)\n",
    "#     cifar10_models.append(m)\n",
    "# print(\"cifar10 model loaded, count: %d\" % len(cifar10_models))"
   ]
  },
  {
   "cell_type": "code",
   "execution_count": 23,
   "id": "9dca15af",
   "metadata": {
    "pycharm": {
     "name": "#%%\n"
    },
    "scrolled": true
   },
   "outputs": [
    {
     "name": "stdout",
     "output_type": "stream",
     "text": [
      "processing model: 0\n",
      "['Conv2d: 1-1                            ', 'MaxPool2d: 1-2                         ', 'Conv2d: 1-3                            ', 'MaxPool2d: 1-4                         ', 'Linear: 1-5                            ', 'Linear: 1-6                            ']\n",
      "mpinfo next: MaxPool2d: 1-2                         \n",
      "mpinfo next: MaxPool2d: 1-4                         \n",
      "processing model: 1\n",
      "['Conv2d: 1-1                            ', 'MaxPool2d: 1-2                         ', 'Conv2d: 1-3                            ', 'MaxPool2d: 1-4                         ', 'Conv2d: 1-5                            ', 'MaxPool2d: 1-6                         ', 'Linear: 1-7                            ', 'Linear: 1-8                            ']\n",
      "mpinfo next: MaxPool2d: 1-2                         \n",
      "mpinfo next: MaxPool2d: 1-4                         \n",
      "mpinfo next: MaxPool2d: 1-6                         \n",
      "processing model: 2\n",
      "['Conv2d: 1-1                            ', 'Conv2d: 1-2                            ', 'Conv2d: 1-3                            ', 'Linear: 1-4                            ', 'Linear: 1-5                            ', 'Linear: 1-6                            ']\n",
      "mpinfo next: Conv2d: 1-2                            \n",
      "mpinfo next: Conv2d: 1-3                            \n",
      "mpinfo next: Linear: 1-4                            \n",
      "processing model: 3\n",
      "['Conv2d: 1-1                            ', 'MaxPool2d: 1-2                         ', 'Conv2d: 1-3                            ', 'MaxPool2d: 1-4                         ', 'Conv2d: 1-5                            ', 'Linear: 1-6                            ', 'Linear: 1-7                            ', 'Linear: 1-8                            ']\n",
      "mpinfo next: MaxPool2d: 1-2                         \n",
      "mpinfo next: MaxPool2d: 1-4                         \n",
      "mpinfo next: Linear: 1-6                            \n",
      "processing model: 4\n",
      "['Conv2d: 1-1                            ', 'MaxPool2d: 1-2                         ', 'Conv2d: 1-3                            ', 'Conv2d: 1-4                            ', 'Conv2d: 1-5                            ', 'MaxPool2d: 1-6                         ', 'Linear: 1-7                            ', 'Linear: 1-8                            ']\n",
      "mpinfo next: MaxPool2d: 1-2                         \n",
      "mpinfo next: Conv2d: 1-4                            \n",
      "mpinfo next: Conv2d: 1-5                            \n",
      "mpinfo next: MaxPool2d: 1-6                         \n",
      "processing model: 5\n",
      "['Conv2d: 1-1                            ', 'Conv2d: 1-2                            ', 'MaxPool2d: 1-3                         ', 'Conv2d: 1-4                            ', 'Conv2d: 1-5                            ', 'MaxPool2d: 1-6                         ', 'Linear: 1-7                            ', 'Linear: 1-8                            ', 'Linear: 1-9                            ']\n",
      "mpinfo next: Conv2d: 1-2                            \n",
      "mpinfo next: MaxPool2d: 1-3                         \n",
      "mpinfo next: Conv2d: 1-5                            \n",
      "mpinfo next: MaxPool2d: 1-6                         \n"
     ]
    }
   ],
   "source": [
    "import re\n",
    "from torchinfo import summary\n",
    "def model_summary(model_type, models, input_size):\n",
    "    # get info:\n",
    "    # 1. max node size\n",
    "    # 2. conv layer node name & num & max_pooling params\n",
    "    # 3. dense layer node name \n",
    "    # final save all info as a json file \n",
    "    max_size = None\n",
    "    model_summary = {}\n",
    "    cnt = 0\n",
    "    row_dim = {}\n",
    "    col_dim = {}\n",
    "    for m in models:\n",
    "        print(\"processing model: %d\" % models.index(m))\n",
    "        batch_size = (1,)\n",
    "        summary_str = str(summary(m, batch_size+input_size))\n",
    "        # print(summary_str)\n",
    "        pattern = '├─(.*?)\\['\n",
    "        maxp_info = re.findall(pattern, summary_str)\n",
    "        print(maxp_info)\n",
    "        idx = 0\n",
    "        layers = []\n",
    "        pool1_used = False\n",
    "        cur_row_dim = []\n",
    "        cur_col_dim = []\n",
    "        # print(m.state_dict().keys())\n",
    "        for layer in m.state_dict().keys():\n",
    "            \n",
    "            cur_layer_name = layer.split('.')[0]\n",
    "            # print(\"layer:\", cur_layer_name)\n",
    "\n",
    "            if 'bias' in layer:\n",
    "                continue\n",
    "            # if conv, max_pool exists?\n",
    "            if 'conv' in layer:\n",
    "                print(\"mpinfo next:\", maxp_info[idx+1])\n",
    "                if 'MaxPool' in maxp_info[idx+1]:\n",
    "                    idx += 1\n",
    "                    # print('maxpool conv layer')\n",
    "                    mp_name = 'max_pool'\n",
    "                    mp_info = {}\n",
    "                    if pool1_used == False and model_type == 'mnist' and 'Model1' in summary_str:\n",
    "                        mp_name = 'max_pool_1'\n",
    "                        pool1_used = True\n",
    "                    if pool1_used == True and model_type == 'mnist' and 'Model1' in summary_str:\n",
    "                        mp_name = 'max_pool_2'\n",
    "                    \n",
    "                    mp_info['kernel_size'] = m.get_submodule(mp_name).kernel_size\n",
    "                    mp_info['stride'] = m.get_submodule(mp_name).stride\n",
    "                    mp_info['padding'] = m.get_submodule(mp_name).padding\n",
    "                    mp_info['dilation'] = m.get_submodule(mp_name).dilation\n",
    "                    mp_info['ceil_mode'] = m.get_submodule(mp_name).ceil_mode\n",
    "                    layers.append({'name':cur_layer_name, 'num':m.get_submodule(cur_layer_name).out_channels,\n",
    "                                  'maxpool':mp_info})\n",
    "                else:\n",
    "                    # print(\"no maxpool layer\")\n",
    "                    layers.append({'name':cur_layer_name, 'num':m.get_submodule(cur_layer_name).out_channels,\n",
    "                                  'maxpool':None})\n",
    "                cur_row_dim.append(m.get_submodule(cur_layer_name).kernel_size[0])\n",
    "                cur_col_dim.append(m.get_submodule(cur_layer_name).kernel_size[1])\n",
    "            else:\n",
    "                # dense layer\n",
    "                # print('dense layer')\n",
    "                layers.append({'name':cur_layer_name, 'num': 1, 'maxpool':None})\n",
    "                cur_row_dim.append(m.get_submodule(cur_layer_name).out_features)\n",
    "                cur_col_dim.append(m.get_submodule(cur_layer_name).out_features)\n",
    "            \n",
    "            # get max row & col size\n",
    "            # if cur_row_dim > row_dim:\n",
    "            #     row_dim = cur_row_dim\n",
    "            # if cur_col_dim > col_dim:\n",
    "            #     col_dim = cur_col_dim\n",
    "            idx += 1\n",
    "        row_dim[cnt] = cur_row_dim\n",
    "        col_dim[cnt] = cur_col_dim\n",
    "        model_summary[cnt] =  layers\n",
    "        cnt += 1\n",
    "        # print(layers)\n",
    "    return model_summary, row_dim, col_dim\n",
    "\n",
    "mnist_summary, m_row_dim, m_col_dim = model_summary('mnist', mnist_models, (1, 28, 28))\n",
    "def max_dim_count(mnist_summary, m_row_dim, m_col_dim):\n",
    "    for model in range(len(m_row_dim)):\n",
    "        max_dim = 0\n",
    "        cell_num = 0\n",
    "        for cell in range(len(m_row_dim[model])):\n",
    "            # print(m_row_dim[model][cell], m_col_dim[model][cell])\n",
    "            dim = m_row_dim[model][cell] * m_col_dim[model][cell]\n",
    "            if max_dim < dim:\n",
    "                max_dim = dim\n",
    "            cell_num += mnist_summary[model][cell]['num']\n",
    "        print(\"%d: num of cells: %d, max cell dim: %d\" % (model, cell_num, max_dim))\n",
    "# print(m_row_dim, m_col_dim)\n",
    "# max_dim_count(mnist_summary, m_row_dim, m_col_dim)\n",
    "# cifar10_summary, c_row_dim, c_col_dim = model_summary('cifar10', cifar10_models, (3, 32, 32))\n",
    "# print(cifar10_summary, c_row_dim, c_col_dim)\n",
    "# max_dim_count(cifar10_summary, c_row_dim, c_col_dim)"
   ]
  },
  {
   "cell_type": "code",
   "execution_count": 24,
   "id": "5b51e986",
   "metadata": {},
   "outputs": [
    {
     "data": {
      "text/plain": [
       "Model5(\n",
       "  (conv1): Conv2d(1, 32, kernel_size=(5, 5), stride=(1, 1), padding=(2, 2))\n",
       "  (conv2): Conv2d(32, 32, kernel_size=(5, 5), stride=(1, 1), padding=(2, 2))\n",
       "  (conv3): Conv2d(32, 16, kernel_size=(3, 3), stride=(1, 1), padding=(1, 1))\n",
       "  (conv4): Conv2d(16, 8, kernel_size=(3, 3), stride=(1, 1), padding=(1, 1))\n",
       "  (max_pool): MaxPool2d(kernel_size=2, stride=2, padding=0, dilation=1, ceil_mode=False)\n",
       "  (fc1): Linear(in_features=392, out_features=512, bias=True)\n",
       "  (fc2): Linear(in_features=512, out_features=128, bias=True)\n",
       "  (output): Linear(in_features=128, out_features=10, bias=True)\n",
       ")"
      ]
     },
     "execution_count": 24,
     "metadata": {},
     "output_type": "execute_result"
    }
   ],
   "source": [
    "mnist_models[5]"
   ]
  },
  {
   "cell_type": "code",
   "execution_count": 27,
   "metadata": {
    "collapsed": false,
    "pycharm": {
     "name": "#%%\n"
    }
   },
   "outputs": [
    {
     "name": "stdout",
     "output_type": "stream",
     "text": [
      "processing model: 0\n",
      "['Conv2d: 1-1                            ', 'MaxPool2d: 1-2                         ', 'Conv2d: 1-3                            ', 'MaxPool2d: 1-4                         ', 'Linear: 1-5                            ', 'Linear: 1-6                            ']\n",
      "mpinfo next: MaxPool2d: 1-2                         \n",
      "mpinfo next: MaxPool2d: 1-4                         \n",
      "processing model: 1\n",
      "['Conv2d: 1-1                            ', 'MaxPool2d: 1-2                         ', 'Conv2d: 1-3                            ', 'MaxPool2d: 1-4                         ', 'Conv2d: 1-5                            ', 'MaxPool2d: 1-6                         ', 'Linear: 1-7                            ', 'Linear: 1-8                            ']\n",
      "mpinfo next: MaxPool2d: 1-2                         \n",
      "mpinfo next: MaxPool2d: 1-4                         \n",
      "mpinfo next: MaxPool2d: 1-6                         \n",
      "processing model: 2\n",
      "['Conv2d: 1-1                            ', 'Conv2d: 1-2                            ', 'Conv2d: 1-3                            ', 'Linear: 1-4                            ', 'Linear: 1-5                            ', 'Linear: 1-6                            ']\n",
      "mpinfo next: Conv2d: 1-2                            \n",
      "mpinfo next: Conv2d: 1-3                            \n",
      "mpinfo next: Linear: 1-4                            \n",
      "processing model: 3\n",
      "['Conv2d: 1-1                            ', 'MaxPool2d: 1-2                         ', 'Conv2d: 1-3                            ', 'MaxPool2d: 1-4                         ', 'Conv2d: 1-5                            ', 'Linear: 1-6                            ', 'Linear: 1-7                            ', 'Linear: 1-8                            ']\n",
      "mpinfo next: MaxPool2d: 1-2                         \n",
      "mpinfo next: MaxPool2d: 1-4                         \n",
      "mpinfo next: Linear: 1-6                            \n",
      "processing model: 4\n",
      "['Conv2d: 1-1                            ', 'MaxPool2d: 1-2                         ', 'Conv2d: 1-3                            ', 'Conv2d: 1-4                            ', 'Conv2d: 1-5                            ', 'MaxPool2d: 1-6                         ', 'Linear: 1-7                            ', 'Linear: 1-8                            ']\n",
      "mpinfo next: MaxPool2d: 1-2                         \n",
      "mpinfo next: Conv2d: 1-4                            \n",
      "mpinfo next: Conv2d: 1-5                            \n",
      "mpinfo next: MaxPool2d: 1-6                         \n",
      "processing model: 5\n",
      "['Conv2d: 1-1                            ', 'Conv2d: 1-2                            ', 'MaxPool2d: 1-3                         ', 'Conv2d: 1-4                            ', 'Conv2d: 1-5                            ', 'MaxPool2d: 1-6                         ', 'Linear: 1-7                            ', 'Linear: 1-8                            ', 'Linear: 1-9                            ']\n",
      "mpinfo next: Conv2d: 1-2                            \n",
      "mpinfo next: MaxPool2d: 1-3                         \n",
      "mpinfo next: Conv2d: 1-5                            \n",
      "mpinfo next: MaxPool2d: 1-6                         \n",
      "{'mnist': {0: [{'name': 'conv1', 'num': 16, 'maxpool': {'kernel_size': 2, 'stride': 2, 'padding': 0, 'dilation': 1, 'ceil_mode': False}}, {'name': 'conv2', 'num': 32, 'maxpool': {'kernel_size': 2, 'stride': 2, 'padding': 0, 'dilation': 1, 'ceil_mode': False}}, {'name': 'fc', 'num': 1, 'maxpool': None}, {'name': 'output', 'num': 1, 'maxpool': None}], 1: [{'name': 'conv1', 'num': 16, 'maxpool': {'kernel_size': 2, 'stride': 1, 'padding': 0, 'dilation': 1, 'ceil_mode': False}}, {'name': 'conv2', 'num': 32, 'maxpool': {'kernel_size': 2, 'stride': 1, 'padding': 0, 'dilation': 1, 'ceil_mode': False}}, {'name': 'conv3', 'num': 32, 'maxpool': {'kernel_size': 2, 'stride': 1, 'padding': 0, 'dilation': 1, 'ceil_mode': False}}, {'name': 'fc', 'num': 1, 'maxpool': None}, {'name': 'output', 'num': 1, 'maxpool': None}], 2: [{'name': 'conv1', 'num': 32, 'maxpool': None}, {'name': 'conv2', 'num': 32, 'maxpool': None}, {'name': 'conv3', 'num': 64, 'maxpool': None}, {'name': 'fc', 'num': 1, 'maxpool': None}, {'name': 'fc1', 'num': 1, 'maxpool': None}, {'name': 'output', 'num': 1, 'maxpool': None}], 3: [{'name': 'conv1', 'num': 64, 'maxpool': {'kernel_size': 2, 'stride': 2, 'padding': 0, 'dilation': 1, 'ceil_mode': False}}, {'name': 'conv2', 'num': 128, 'maxpool': {'kernel_size': 2, 'stride': 2, 'padding': 0, 'dilation': 1, 'ceil_mode': False}}, {'name': 'conv3', 'num': 16, 'maxpool': None}, {'name': 'fc1', 'num': 1, 'maxpool': None}, {'name': 'fc2', 'num': 1, 'maxpool': None}, {'name': 'output', 'num': 1, 'maxpool': None}], 4: [{'name': 'conv1', 'num': 32, 'maxpool': {'kernel_size': 2, 'stride': 2, 'padding': 0, 'dilation': 1, 'ceil_mode': False}}, {'name': 'conv2', 'num': 64, 'maxpool': None}, {'name': 'conv3', 'num': 32, 'maxpool': None}, {'name': 'conv4', 'num': 32, 'maxpool': {'kernel_size': 2, 'stride': 2, 'padding': 0, 'dilation': 1, 'ceil_mode': False}}, {'name': 'fc', 'num': 1, 'maxpool': None}, {'name': 'output', 'num': 1, 'maxpool': None}], 5: [{'name': 'conv1', 'num': 32, 'maxpool': None}, {'name': 'conv2', 'num': 32, 'maxpool': {'kernel_size': 2, 'stride': 2, 'padding': 0, 'dilation': 1, 'ceil_mode': False}}, {'name': 'conv3', 'num': 16, 'maxpool': None}, {'name': 'conv4', 'num': 8, 'maxpool': {'kernel_size': 2, 'stride': 2, 'padding': 0, 'dilation': 1, 'ceil_mode': False}}, {'name': 'fc1', 'num': 1, 'maxpool': None}, {'name': 'fc2', 'num': 1, 'maxpool': None}, {'name': 'output', 'num': 1, 'maxpool': None}]}, 'cifar10': {}, 'max_size': [512, 512]}\n"
     ]
    }
   ],
   "source": [
    "import json\n",
    "def get_model_detail():\n",
    "    # get_model_detail information and save to json\n",
    "    mnist_summary, m_row_dim, m_col_dim = model_summary('mnist', mnist_models, (1, 28, 28))\n",
    "    cifar10_summary, c_row_dim, c_col_dim = model_summary('cifar10', cifar10_models, (3, 32, 32))\n",
    "    max_row_dim = 512\n",
    "    max_col_dim = 512\n",
    "    model_detail = {}\n",
    "    model_detail['mnist'] = mnist_summary\n",
    "    model_detail['cifar10'] = cifar10_summary\n",
    "    model_detail['max_size'] = [max_row_dim, max_col_dim]\n",
    "    print(model_detail)\n",
    "    model_detail_path = \"./intermediate_data/model_detail.json\"\n",
    "    with open(model_detail_path, 'w') as f:\n",
    "        json.dump(model_detail, f)\n",
    "    return model_detail\n",
    "model_detail = get_model_detail()"
   ]
  },
  {
   "cell_type": "code",
   "execution_count": null,
   "id": "a08e459b",
   "metadata": {
    "pycharm": {
     "name": "#%%\n"
    },
    "scrolled": true
   },
   "outputs": [],
   "source": [
    "import json\n",
    "model_detail = []\n",
    "model_detail_path = \"./intermediate_data/model_detail.json\"\n",
    "with open(model_detail_path, 'r') as f:\n",
    "    model_detail = json.load(f)\n",
    "\n",
    "max_num = 0\n",
    "num_list = []\n",
    "for key, value in zip(model_detail.keys(), model_detail.values()):\n",
    "    if key not in ['mnist', 'cifar10']:\n",
    "        continue\n",
    "    cur_num = 0\n",
    "    print(\"Models %d\" % cur_num)\n",
    "    for model in value.values():\n",
    "        for layer in model:\n",
    "            print(layer)\n",
    "            cur_num += layer['num']\n",
    "        if cur_num > max_num:\n",
    "            max_num = cur_num\n",
    "            num_list.append(cur_num)\n",
    "print(max_num)\n",
    "print(num_list)"
   ]
  },
  {
   "cell_type": "code",
   "execution_count": null,
   "id": "a2baf554",
   "metadata": {
    "pycharm": {
     "name": "#%%\n"
    }
   },
   "outputs": [],
   "source": [
    "for weight, bias in zip(m.get_submodule('conv1').weight, \n",
    "                        m.get_submodule('conv1').bias):\n",
    "    print(weight[0])\n",
    "    print(bias)\n",
    "    w = weight[0] + bias\n",
    "    print(w)\n",
    "    break"
   ]
  },
  {
   "cell_type": "code",
   "execution_count": null,
   "id": "376f9ea6",
   "metadata": {},
   "outputs": [],
   "source": [
    "import torch\n",
    "import torch.nn.functional as F\n",
    "\n",
    "def padding(src: torch.Tensor, row: int, col: int):\n",
    "    r, c = src.size()\n",
    "    \n",
    "    if r > row or c > col:\n",
    "        return None\n",
    "    \n",
    "    if (row - r) % 2 == 0:\n",
    "        rl = int((row - r) / 2)\n",
    "    else:\n",
    "        rl = int((row - r) / 2 + 1)\n",
    "    \n",
    "    if row == r:\n",
    "        rr = 0\n",
    "    else:\n",
    "        rr = int((row - r) / 2)\n",
    "\n",
    "    if (col - c) % 2 == 0:\n",
    "        cl = int((col - c) / 2)\n",
    "    else:\n",
    "        cl = int((col - c) / 2 + 1)\n",
    "\n",
    "    if col == c:\n",
    "        cr = 0\n",
    "    else:\n",
    "        cr = int((col - c) / 2)\n",
    "   \n",
    "    result = F.pad(input=src, pad=(cl, cr, rl, rr), mode='constant', value=0)\n",
    "    return result\n"
   ]
  },
  {
   "cell_type": "code",
   "execution_count": null,
   "id": "892008f7",
   "metadata": {
    "pycharm": {
     "name": "#%%\n"
    }
   },
   "outputs": [],
   "source": [
    "# cnn2graph\n",
    "# mnsit input size: 1,28,28\n",
    "# cifar10 input size: 3,32,32\n",
    "from lzma import MODE_NORMAL\n",
    "from torchinfo import summary\n",
    "import os \n",
    "import dgl\n",
    "\n",
    "\n",
    "def all_u_to_v(src, dst):\n",
    "    ret = []\n",
    "    for v in dst:\n",
    "        ret += [[u, v] for u in src]\n",
    "    return ret\n",
    "\n",
    "def cnn2graph(model, model_info):\n",
    "    # convert cnn model to a dgl graph\n",
    "    # model: model weight data\n",
    "    # model_info: model struct info\n",
    "    \n",
    "    layers = []\n",
    "    all_node_feats = []\n",
    "    all_edges = []\n",
    "    cnt = 0\n",
    "    with torch.no_grad():\n",
    "        for i in range(len(model_info)):\n",
    "            cur_layer_info = model_info[i]\n",
    "            cur_layer_node = []\n",
    "            \n",
    "            if 'conv' in cur_layer_info['name']:\n",
    "                # construct cur layer nodes\n",
    "                for weight, bias in zip(model.get_submodule(cur_layer_info['name']).weight, \n",
    "                                        model.get_submodule(cur_layer_info['name']).bias):\n",
    "                    cur_layer_node.append(cnt)\n",
    "                    cnt += 1\n",
    "                    # featue resize?\n",
    "                    w = weight[0] + bias\n",
    "                    print(weight[0].size(), bias)\n",
    "                    all_node_feats.append(padding(w, 512, 513))\n",
    "            else:\n",
    "                # construct dense layer node\n",
    "                cur_layer_node.append(cnt)\n",
    "                cnt += 1\n",
    "                # feature resize?\n",
    "                w = model.get_submodule(cur_layer_info['name']).weight.t() + model.get_submodule(cur_layer_info['name']).bias\n",
    "                print(cur_layer_info['name'], w.size())\n",
    "                all_node_feats.append(padding(w, 512, 513))\n",
    "            layers.append(cur_layer_node)\n",
    "            \n",
    "    # get all edges\n",
    "    for idx in range(len(layers)):\n",
    "        if idx < len(layers) - 1:\n",
    "            edges = all_u_to_v(layers[idx], layers[idx+1])\n",
    "            all_edges += edges\n",
    "    \n",
    "    all_edges = torch.tensor(all_edges).t()\n",
    "    u, v = all_edges[0], all_edges[1]\n",
    "    g = dgl.graph((u,v)).to('cuda')\n",
    "    g.ndata['x'] = torch.stack(all_node_feats)\n",
    "    return g\n",
    "import json\n",
    "model_detail = None\n",
    "with open('./intermediate_data/model_detail.json') as f:\n",
    "    model_detail = json.load(f)\n",
    "\n",
    "print(model_detail)\n",
    "import torch\n",
    "from model_lib.mnist_cnn_model import Model0\n",
    "for idx in range(len(mnist_models)):\n",
    "    # if idx in [2, 3, 4]:\n",
    "    #     continue\n",
    "    # print(\"idx: %d\" % idx)\n",
    "    g = cnn2graph(mnist_models[0], model_detail['mnist'][str(idx)])\n",
    "    break\n",
    "    "
   ]
  },
  {
   "cell_type": "code",
   "execution_count": null,
   "id": "761f477a",
   "metadata": {},
   "outputs": [],
   "source": [
    "len(mnist_models)"
   ]
  },
  {
   "cell_type": "code",
   "execution_count": null,
   "id": "80b8d78c",
   "metadata": {},
   "outputs": [],
   "source": [
    "for idx in range(len(cifar10_models)):\n",
    "    if idx in [0, 2, 3, 5]:\n",
    "        continue\n",
    "    print(\"idx: %d\" % idx)\n",
    "    g = cnn2graph(cifar10_models[idx], model_detail['cifar10'][str(idx)])\n"
   ]
  },
  {
   "cell_type": "code",
   "execution_count": null,
   "id": "f5e9439c",
   "metadata": {
    "pycharm": {
     "name": "#%%\n"
    }
   },
   "outputs": [],
   "source": [
    "zeros = torch.zeros((4,4))\n",
    "ones = torch.ones((2, 2))\n",
    "print(zeros)\n",
    "print(ones)"
   ]
  },
  {
   "cell_type": "code",
   "execution_count": null,
   "id": "188b8d99",
   "metadata": {},
   "outputs": [],
   "source": [
    "res = padding(ones, 4, 5)\n",
    "print(res.size())"
   ]
  }
 ],
 "metadata": {
  "kernelspec": {
   "display_name": "Python 3.6.13 ('mntd')",
   "language": "python",
   "name": "python3"
  },
  "language_info": {
   "codemirror_mode": {
    "name": "ipython",
    "version": 3
   },
   "file_extension": ".py",
   "mimetype": "text/x-python",
   "name": "python",
   "nbconvert_exporter": "python",
   "pygments_lexer": "ipython3",
   "version": "3.6.13"
  },
  "vscode": {
   "interpreter": {
    "hash": "7d504790743f38722d745ab54c6dcc5c590f96c5141b7c6566bf2e4e2b011705"
   }
  }
 },
 "nbformat": 4,
 "nbformat_minor": 5
}
